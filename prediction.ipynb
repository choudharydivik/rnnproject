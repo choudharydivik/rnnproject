{
 "cells": [
  {
   "cell_type": "code",
   "execution_count": 1,
   "metadata": {},
   "outputs": [],
   "source": [
    "import numpy as np\n",
    "import tensorflow as tf\n",
    "from tensorflow.keras.datasets import imdb\n",
    "from tensorflow.keras.preprocessing import sequence\n",
    "from tensorflow.keras.models import load_model"
   ]
  },
  {
   "cell_type": "code",
   "execution_count": 2,
   "metadata": {},
   "outputs": [],
   "source": [
    "word_index = imdb.get_word_index()\n",
    "reverse_word_index = {value: key for key, value in word_index.items()}"
   ]
  },
  {
   "cell_type": "code",
   "execution_count": 3,
   "metadata": {},
   "outputs": [
    {
     "name": "stderr",
     "output_type": "stream",
     "text": [
      "WARNING:absl:Compiled the loaded model, but the compiled metrics have yet to be built. `model.compile_metrics` will be empty until you train or evaluate the model.\n"
     ]
    },
    {
     "data": {
      "text/html": [
       "<pre style=\"white-space:pre;overflow-x:auto;line-height:normal;font-family:Menlo,'DejaVu Sans Mono',consolas,'Courier New',monospace\"><span style=\"font-weight: bold\">Model: \"sequential_3\"</span>\n",
       "</pre>\n"
      ],
      "text/plain": [
       "\u001b[1mModel: \"sequential_3\"\u001b[0m\n"
      ]
     },
     "metadata": {},
     "output_type": "display_data"
    },
    {
     "data": {
      "text/html": [
       "<pre style=\"white-space:pre;overflow-x:auto;line-height:normal;font-family:Menlo,'DejaVu Sans Mono',consolas,'Courier New',monospace\">┏━━━━━━━━━━━━━━━━━━━━━━━━━━━━━━━━━┳━━━━━━━━━━━━━━━━━━━━━━━━┳━━━━━━━━━━━━━━━┓\n",
       "┃<span style=\"font-weight: bold\"> Layer (type)                    </span>┃<span style=\"font-weight: bold\"> Output Shape           </span>┃<span style=\"font-weight: bold\">       Param # </span>┃\n",
       "┡━━━━━━━━━━━━━━━━━━━━━━━━━━━━━━━━━╇━━━━━━━━━━━━━━━━━━━━━━━━╇━━━━━━━━━━━━━━━┩\n",
       "│ embedding_3 (<span style=\"color: #0087ff; text-decoration-color: #0087ff\">Embedding</span>)         │ (<span style=\"color: #00d7ff; text-decoration-color: #00d7ff\">None</span>, <span style=\"color: #00af00; text-decoration-color: #00af00\">500</span>, <span style=\"color: #00af00; text-decoration-color: #00af00\">128</span>)       │     <span style=\"color: #00af00; text-decoration-color: #00af00\">1,280,000</span> │\n",
       "├─────────────────────────────────┼────────────────────────┼───────────────┤\n",
       "│ simple_rnn_2 (<span style=\"color: #0087ff; text-decoration-color: #0087ff\">SimpleRNN</span>)        │ (<span style=\"color: #00d7ff; text-decoration-color: #00d7ff\">None</span>, <span style=\"color: #00af00; text-decoration-color: #00af00\">128</span>)            │        <span style=\"color: #00af00; text-decoration-color: #00af00\">32,896</span> │\n",
       "├─────────────────────────────────┼────────────────────────┼───────────────┤\n",
       "│ dense_2 (<span style=\"color: #0087ff; text-decoration-color: #0087ff\">Dense</span>)                 │ (<span style=\"color: #00d7ff; text-decoration-color: #00d7ff\">None</span>, <span style=\"color: #00af00; text-decoration-color: #00af00\">1</span>)              │           <span style=\"color: #00af00; text-decoration-color: #00af00\">129</span> │\n",
       "└─────────────────────────────────┴────────────────────────┴───────────────┘\n",
       "</pre>\n"
      ],
      "text/plain": [
       "┏━━━━━━━━━━━━━━━━━━━━━━━━━━━━━━━━━┳━━━━━━━━━━━━━━━━━━━━━━━━┳━━━━━━━━━━━━━━━┓\n",
       "┃\u001b[1m \u001b[0m\u001b[1mLayer (type)                   \u001b[0m\u001b[1m \u001b[0m┃\u001b[1m \u001b[0m\u001b[1mOutput Shape          \u001b[0m\u001b[1m \u001b[0m┃\u001b[1m \u001b[0m\u001b[1m      Param #\u001b[0m\u001b[1m \u001b[0m┃\n",
       "┡━━━━━━━━━━━━━━━━━━━━━━━━━━━━━━━━━╇━━━━━━━━━━━━━━━━━━━━━━━━╇━━━━━━━━━━━━━━━┩\n",
       "│ embedding_3 (\u001b[38;5;33mEmbedding\u001b[0m)         │ (\u001b[38;5;45mNone\u001b[0m, \u001b[38;5;34m500\u001b[0m, \u001b[38;5;34m128\u001b[0m)       │     \u001b[38;5;34m1,280,000\u001b[0m │\n",
       "├─────────────────────────────────┼────────────────────────┼───────────────┤\n",
       "│ simple_rnn_2 (\u001b[38;5;33mSimpleRNN\u001b[0m)        │ (\u001b[38;5;45mNone\u001b[0m, \u001b[38;5;34m128\u001b[0m)            │        \u001b[38;5;34m32,896\u001b[0m │\n",
       "├─────────────────────────────────┼────────────────────────┼───────────────┤\n",
       "│ dense_2 (\u001b[38;5;33mDense\u001b[0m)                 │ (\u001b[38;5;45mNone\u001b[0m, \u001b[38;5;34m1\u001b[0m)              │           \u001b[38;5;34m129\u001b[0m │\n",
       "└─────────────────────────────────┴────────────────────────┴───────────────┘\n"
      ]
     },
     "metadata": {},
     "output_type": "display_data"
    },
    {
     "data": {
      "text/html": [
       "<pre style=\"white-space:pre;overflow-x:auto;line-height:normal;font-family:Menlo,'DejaVu Sans Mono',consolas,'Courier New',monospace\"><span style=\"font-weight: bold\"> Total params: </span><span style=\"color: #00af00; text-decoration-color: #00af00\">1,313,027</span> (5.01 MB)\n",
       "</pre>\n"
      ],
      "text/plain": [
       "\u001b[1m Total params: \u001b[0m\u001b[38;5;34m1,313,027\u001b[0m (5.01 MB)\n"
      ]
     },
     "metadata": {},
     "output_type": "display_data"
    },
    {
     "data": {
      "text/html": [
       "<pre style=\"white-space:pre;overflow-x:auto;line-height:normal;font-family:Menlo,'DejaVu Sans Mono',consolas,'Courier New',monospace\"><span style=\"font-weight: bold\"> Trainable params: </span><span style=\"color: #00af00; text-decoration-color: #00af00\">1,313,025</span> (5.01 MB)\n",
       "</pre>\n"
      ],
      "text/plain": [
       "\u001b[1m Trainable params: \u001b[0m\u001b[38;5;34m1,313,025\u001b[0m (5.01 MB)\n"
      ]
     },
     "metadata": {},
     "output_type": "display_data"
    },
    {
     "data": {
      "text/html": [
       "<pre style=\"white-space:pre;overflow-x:auto;line-height:normal;font-family:Menlo,'DejaVu Sans Mono',consolas,'Courier New',monospace\"><span style=\"font-weight: bold\"> Non-trainable params: </span><span style=\"color: #00af00; text-decoration-color: #00af00\">0</span> (0.00 B)\n",
       "</pre>\n"
      ],
      "text/plain": [
       "\u001b[1m Non-trainable params: \u001b[0m\u001b[38;5;34m0\u001b[0m (0.00 B)\n"
      ]
     },
     "metadata": {},
     "output_type": "display_data"
    },
    {
     "data": {
      "text/html": [
       "<pre style=\"white-space:pre;overflow-x:auto;line-height:normal;font-family:Menlo,'DejaVu Sans Mono',consolas,'Courier New',monospace\"><span style=\"font-weight: bold\"> Optimizer params: </span><span style=\"color: #00af00; text-decoration-color: #00af00\">2</span> (12.00 B)\n",
       "</pre>\n"
      ],
      "text/plain": [
       "\u001b[1m Optimizer params: \u001b[0m\u001b[38;5;34m2\u001b[0m (12.00 B)\n"
      ]
     },
     "metadata": {},
     "output_type": "display_data"
    }
   ],
   "source": [
    "model = load_model('simple_rnn_imdb.h5')\n",
    "model.summary()"
   ]
  },
  {
   "cell_type": "code",
   "execution_count": 4,
   "metadata": {},
   "outputs": [
    {
     "data": {
      "text/plain": [
       "[array([[-0.01584451,  0.09105216, -0.02001695, ..., -0.12563999,\n",
       "          0.10294003, -0.09373333],\n",
       "        [ 0.06149862, -0.00612042, -0.04844999, ...,  0.01990625,\n",
       "          0.0213934 ,  0.00070349],\n",
       "        [ 0.05549621, -0.06056707, -0.06142292, ..., -0.0077184 ,\n",
       "          0.02067515,  0.05382593],\n",
       "        ...,\n",
       "        [-0.04927235, -0.00875968, -0.09370103, ...,  0.07569308,\n",
       "         -0.02293522,  0.02993103],\n",
       "        [ 0.02903309, -0.01806637,  0.08866017, ...,  0.08637325,\n",
       "          0.0158131 , -0.04768052],\n",
       "        [-0.02671159, -0.11616203, -0.09978087, ...,  0.06424514,\n",
       "         -0.0761269 ,  0.1098351 ]], dtype=float32),\n",
       " array([[-0.091196  ,  0.07861478, -0.07744989, ...,  0.16136506,\n",
       "          0.05477772, -0.15296564],\n",
       "        [-0.20002492,  0.10059121, -0.09479354, ..., -0.02898024,\n",
       "          0.10041385, -0.07291193],\n",
       "        [-0.14048298, -0.12758605, -0.15628597, ..., -0.0457737 ,\n",
       "          0.09454661,  0.13122243],\n",
       "        ...,\n",
       "        [ 0.09946185, -0.04568716,  0.0132767 , ..., -0.04856291,\n",
       "          0.07986718,  0.00958532],\n",
       "        [-0.17440422,  0.05876478,  0.10716578, ..., -0.0369718 ,\n",
       "          0.02179374, -0.05996918],\n",
       "        [-0.07795099, -0.02664064, -0.06236196, ..., -0.1110891 ,\n",
       "          0.04314166, -0.0548957 ]], dtype=float32),\n",
       " array([[-0.00661578,  0.0994037 , -0.00529797, ...,  0.09430578,\n",
       "          0.20442957,  0.00970674],\n",
       "        [ 0.01401814, -0.11652844,  0.02080408, ...,  0.02563533,\n",
       "          0.04490122, -0.00686323],\n",
       "        [ 0.09694915,  0.00715629, -0.06544939, ...,  0.0063333 ,\n",
       "          0.12896347, -0.02468758],\n",
       "        ...,\n",
       "        [ 0.15974064,  0.00660223,  0.0398027 , ...,  0.05566702,\n",
       "         -0.14136572, -0.09782426],\n",
       "        [-0.034644  , -0.09981372, -0.09476949, ...,  0.0978197 ,\n",
       "         -0.00296371, -0.06618135],\n",
       "        [ 0.04284103,  0.16433239, -0.01062115, ..., -0.02938513,\n",
       "          0.21042077, -0.1552407 ]], dtype=float32),\n",
       " array([ 1.62257284e-01,  1.51709868e-02,  1.01476526e-02,  7.35659758e-03,\n",
       "         1.72517970e-02, -6.34441292e-03, -1.02660758e-02, -2.37814733e-03,\n",
       "        -8.52271356e-03, -1.16311684e-02, -7.50798034e-04,  1.15140025e-02,\n",
       "        -9.89429280e-03, -1.17629776e-02, -6.25064247e-04, -1.13195945e-02,\n",
       "        -1.52234011e-03, -8.27113836e-05, -1.91310060e-03, -3.04578384e-03,\n",
       "         1.32149914e-02,  1.68792461e-03,  1.69696454e-02, -2.39765421e-02,\n",
       "         7.81653170e-03,  1.43740755e-02, -2.46087220e-02,  4.41261847e-03,\n",
       "         8.84436257e-03,  8.38996749e-03, -7.79540278e-03,  6.09947788e-03,\n",
       "        -7.36119691e-03,  1.37769412e-02, -1.04455743e-03, -5.45844203e-03,\n",
       "        -1.36415623e-02,  1.41738262e-03,  6.66541094e-03,  1.39460685e-02,\n",
       "        -2.02739146e-02, -1.59029271e-02,  1.72144659e-02,  8.15766864e-03,\n",
       "         2.10666191e-03, -8.44298210e-03, -7.71841849e-04, -9.28013679e-03,\n",
       "        -1.02697974e-02, -1.31735473e-03, -2.55978410e-03, -3.21596139e-03,\n",
       "         6.02709735e-03,  3.45533877e-03, -6.72461884e-03,  4.83661145e-03,\n",
       "        -1.80017762e-02, -1.06434925e-02, -7.17666605e-03,  2.77017569e-03,\n",
       "         1.24123425e-03,  1.21637611e-02, -1.42798619e-02, -1.24225905e-03,\n",
       "        -1.66691989e-02,  6.36944547e-03, -1.52796200e-02,  6.36846002e-04,\n",
       "        -2.23808293e-03,  4.02945932e-03, -1.48750423e-02, -9.41085280e-04,\n",
       "        -2.05040304e-03,  7.27801537e-03, -2.35733837e-02,  5.89152519e-03,\n",
       "         1.51758743e-02, -2.42461538e-04,  1.07913669e-02,  2.44699710e-04,\n",
       "         3.55186779e-03,  1.40964529e-02,  1.51600549e-03, -9.04741883e-03,\n",
       "         1.01029696e-02, -5.55292238e-03, -1.32832797e-02, -9.54617467e-03,\n",
       "         2.93483521e-04, -6.66272501e-03, -9.01416410e-03, -2.36194320e-02,\n",
       "         2.23821145e-03, -2.58330051e-02,  7.84256775e-03, -3.68909980e-03,\n",
       "         3.58919613e-04, -1.09831933e-02, -1.41618401e-02, -9.66254156e-03,\n",
       "        -1.77536011e-02, -9.83717735e-04, -1.07178336e-03, -6.46439847e-03,\n",
       "         6.99066184e-03, -6.16664393e-03, -1.85192283e-02, -6.97612716e-03,\n",
       "         4.63800738e-03,  8.95924028e-03, -4.67557088e-03,  1.47045115e-02,\n",
       "        -4.09927592e-03,  3.91391059e-03, -1.16240103e-02, -2.84633134e-03,\n",
       "         6.93780603e-03,  2.53755995e-03,  8.59356672e-03,  9.52996034e-03,\n",
       "        -1.89742707e-02, -1.60347745e-02, -1.61580425e-02, -3.44899576e-03,\n",
       "         4.94318176e-03, -4.22099791e-03, -8.91413447e-03,  1.51323080e-02],\n",
       "       dtype=float32),\n",
       " array([[-0.20079517],\n",
       "        [ 0.17499907],\n",
       "        [ 0.15769903],\n",
       "        [ 0.02620501],\n",
       "        [-0.17192277],\n",
       "        [-0.6598221 ],\n",
       "        [-0.08652798],\n",
       "        [ 0.11927305],\n",
       "        [ 0.02694236],\n",
       "        [-0.54104674],\n",
       "        [ 0.19710517],\n",
       "        [ 0.08879817],\n",
       "        [-0.8502609 ],\n",
       "        [ 0.0782303 ],\n",
       "        [ 0.21532778],\n",
       "        [-0.10961892],\n",
       "        [-0.00985497],\n",
       "        [-0.03377527],\n",
       "        [-0.20927349],\n",
       "        [ 0.11440898],\n",
       "        [ 0.05269423],\n",
       "        [ 0.15121683],\n",
       "        [ 0.1808314 ],\n",
       "        [-0.01900353],\n",
       "        [ 0.19628307],\n",
       "        [-0.18321195],\n",
       "        [ 0.01676729],\n",
       "        [-0.0316349 ],\n",
       "        [ 0.18660152],\n",
       "        [ 0.02642784],\n",
       "        [ 0.16143109],\n",
       "        [-0.01329693],\n",
       "        [-0.15612078],\n",
       "        [ 0.15001279],\n",
       "        [ 0.01137171],\n",
       "        [-0.08457492],\n",
       "        [ 0.08209546],\n",
       "        [-0.07031106],\n",
       "        [-0.03241037],\n",
       "        [ 0.13054231],\n",
       "        [-0.39399403],\n",
       "        [-0.20643531],\n",
       "        [ 0.13928388],\n",
       "        [-0.0434715 ],\n",
       "        [ 0.23853964],\n",
       "        [-0.19754896],\n",
       "        [-0.737994  ],\n",
       "        [-0.18444926],\n",
       "        [-0.05604428],\n",
       "        [ 0.2438886 ],\n",
       "        [-0.1568442 ],\n",
       "        [ 0.04218821],\n",
       "        [ 0.08300894],\n",
       "        [-0.18792629],\n",
       "        [ 0.04246484],\n",
       "        [ 0.18854041],\n",
       "        [-0.05694905],\n",
       "        [-0.0920572 ],\n",
       "        [ 0.03497488],\n",
       "        [-0.0275665 ],\n",
       "        [-0.17616446],\n",
       "        [ 0.03116315],\n",
       "        [ 0.06547518],\n",
       "        [-0.08089522],\n",
       "        [ 0.08965658],\n",
       "        [-0.4184235 ],\n",
       "        [-0.03078948],\n",
       "        [ 0.1561654 ],\n",
       "        [ 0.00427286],\n",
       "        [ 0.19306728],\n",
       "        [-0.26982442],\n",
       "        [ 0.16086699],\n",
       "        [ 0.45718256],\n",
       "        [-0.01824709],\n",
       "        [-0.01546956],\n",
       "        [ 0.07181127],\n",
       "        [ 0.1699628 ],\n",
       "        [ 0.08642703],\n",
       "        [ 0.16121034],\n",
       "        [-0.9742499 ],\n",
       "        [-0.12598786],\n",
       "        [ 0.07698882],\n",
       "        [-0.06215322],\n",
       "        [-0.19975317],\n",
       "        [ 0.7176868 ],\n",
       "        [ 0.05678624],\n",
       "        [ 0.02788379],\n",
       "        [-0.03546197],\n",
       "        [ 0.09967561],\n",
       "        [ 0.16549845],\n",
       "        [ 0.08622012],\n",
       "        [-0.3294374 ],\n",
       "        [-0.08610669],\n",
       "        [-0.63002133],\n",
       "        [ 0.05961843],\n",
       "        [ 0.15923372],\n",
       "        [ 0.0862685 ],\n",
       "        [-0.12491767],\n",
       "        [-0.02753027],\n",
       "        [-0.04069319],\n",
       "        [-0.31923392],\n",
       "        [ 0.17367433],\n",
       "        [-0.10998075],\n",
       "        [-0.0979354 ],\n",
       "        [ 0.07064679],\n",
       "        [-0.20885618],\n",
       "        [-0.2522029 ],\n",
       "        [ 0.02579385],\n",
       "        [-0.15415812],\n",
       "        [-0.19117759],\n",
       "        [-0.18169066],\n",
       "        [ 0.1407743 ],\n",
       "        [-0.08782835],\n",
       "        [ 0.11760546],\n",
       "        [-0.0639464 ],\n",
       "        [-0.17018217],\n",
       "        [ 0.814733  ],\n",
       "        [-0.06478497],\n",
       "        [ 0.08616997],\n",
       "        [-0.3732756 ],\n",
       "        [-0.1695621 ],\n",
       "        [ 0.3580676 ],\n",
       "        [-0.6288828 ],\n",
       "        [ 0.08402374],\n",
       "        [ 0.45046988],\n",
       "        [-0.6293259 ],\n",
       "        [ 0.08443973],\n",
       "        [ 0.05273148]], dtype=float32),\n",
       " array([-0.1582664], dtype=float32)]"
      ]
     },
     "execution_count": 4,
     "metadata": {},
     "output_type": "execute_result"
    }
   ],
   "source": [
    "model.get_weights()"
   ]
  },
  {
   "cell_type": "code",
   "execution_count": 5,
   "metadata": {},
   "outputs": [],
   "source": [
    "def decode_review(encoded_review):\n",
    "    return ' '.join([reverse_word_index.get(i - 3, '?') for i in encoded_review])\n",
    "\n",
    "def preprocess_text(text):\n",
    "    words = text.lower().split()\n",
    "    encoded_review = [word_index.get(word, 2) + 3 for word in words]\n",
    "    padded_review = sequence.pad_sequences([encoded_review], maxlen=500)\n",
    "    return padded_review"
   ]
  },
  {
   "cell_type": "code",
   "execution_count": 6,
   "metadata": {},
   "outputs": [],
   "source": [
    "def predict_sentiment(review):\n",
    "    preprocessed_input = preprocess_text(review)\n",
    "\n",
    "    prediction = model.predict(preprocessed_input)\n",
    "\n",
    "    sentiment = 'Positive' if prediction[0][0] > 0.5 else 'Negative'\n",
    "    \n",
    "    return sentiment, prediction[0][0]"
   ]
  },
  {
   "cell_type": "code",
   "execution_count": 7,
   "metadata": {},
   "outputs": [
    {
     "name": "stdout",
     "output_type": "stream",
     "text": [
      "\u001b[1m1/1\u001b[0m \u001b[32m━━━━━━━━━━━━━━━━━━━━\u001b[0m\u001b[37m\u001b[0m \u001b[1m0s\u001b[0m 461ms/step\n",
      "Review: This movie was fantastic! The acting was great and the plot was thrilling.\n",
      "Sentiment: Positive\n",
      "Prediction Score: 0.504025936126709\n"
     ]
    }
   ],
   "source": [
    "example_review = \"This movie was fantastic! The acting was great and the plot was thrilling.\"\n",
    "\n",
    "sentiment,score=predict_sentiment(example_review)\n",
    "\n",
    "print(f'Review: {example_review}')\n",
    "print(f'Sentiment: {sentiment}')\n",
    "print(f'Prediction Score: {score}')"
   ]
  }
 ],
 "metadata": {
  "kernelspec": {
   "display_name": "Python 3",
   "language": "python",
   "name": "python3"
  },
  "language_info": {
   "codemirror_mode": {
    "name": "ipython",
    "version": 3
   },
   "file_extension": ".py",
   "mimetype": "text/x-python",
   "name": "python",
   "nbconvert_exporter": "python",
   "pygments_lexer": "ipython3",
   "version": "3.11.0"
  }
 },
 "nbformat": 4,
 "nbformat_minor": 2
}
